{
 "cells": [
  {
   "cell_type": "markdown",
   "id": "4b3bdb9d",
   "metadata": {},
   "source": [
    "---\n",
    "title: \"Fama-French 5-factor Model Implementation\"\n",
    "author: Sangwon Woo\n",
    "date: September 17, 2024\n",
    "format:\n",
    "  html:\n",
    "    code-fold: false\n",
    "jupyter: python3\n",
    "image: \"ff5f.png\"\n",
    "categories: [factor model, code, analysis]\n",
    "---\n",
    "\n",
    "# This is a post with Fama-French 5 Factor Model "
   ]
  },
  {
   "cell_type": "code",
   "execution_count": 1,
   "id": "85f4e70c-4509-45df-b1f4-85515d44232e",
   "metadata": {
    "tags": []
   },
   "outputs": [],
   "source": [
    "import pandas as pd\n",
    "import numpy as np\n",
    "import matplotlib.pyplot as plt\n",
    "from IPython.core.interactiveshell import InteractiveShell\n",
    "InteractiveShell.ast_node_interactivity = \"all\"\n",
    "%matplotlib inline\n",
    "\n",
    "pd.set_option('display.max_colwidth', 100)\n",
    "pd.set_option('display.width', 160)\n",
    "pd.set_option('display.precision', 18)"
   ]
  },
  {
   "cell_type": "code",
   "execution_count": 2,
   "id": "ce5d3335-4dbe-46df-8334-52f17ed2b87b",
   "metadata": {
    "tags": []
   },
   "outputs": [],
   "source": [
    "def get_size(x, m1, m2, m3, m4):\n",
    "    if x<=m1:\n",
    "        return 'S1'\n",
    "    elif x>m1 and x<=m2:\n",
    "        return 'S2'\n",
    "    elif x>m2 and x<=m3:\n",
    "        return 'S3'\n",
    "    elif x>m3 and x<=m4:\n",
    "        return 'S4'\n",
    "    elif x>m4:\n",
    "        return 'S5'\n",
    "    \n",
    "def get_beme(x, m1, m2, m3, m4):\n",
    "    if x<=m1:\n",
    "        return 'B1'\n",
    "    elif x>m1 and x<=m2:\n",
    "        return 'B2'\n",
    "    elif x>m2 and x<=m3:\n",
    "        return 'B3'\n",
    "    elif x>m3 and x<=m4:\n",
    "        return 'B4'\n",
    "    elif x>m4:\n",
    "        return 'B5'"
   ]
  },
  {
   "cell_type": "code",
   "execution_count": 3,
   "id": "ec1fc04a-22cd-47a6-b6db-af285e0513b5",
   "metadata": {
    "tags": []
   },
   "outputs": [],
   "source": [
    "info = pd.read_csv(\"info.csv\")\n",
    "del info['Name'], info['주기'], info['Symbol'], info['결산월']\n",
    "info.columns = ['year', 'industry', 'ticker', 'exchcd']\n",
    "info = info[info['exchcd'] == '유가증권시장']\n",
    "info = info[info['industry'] != 'K']\n",
    "info = info.sort_values(by=['ticker', 'year']).reset_index(drop=True)[['ticker', 'year', 'exchcd']]\n",
    "info = info[~(info['ticker'].isin(['A008080', 'A005560']))]"
   ]
  },
  {
   "cell_type": "code",
   "execution_count": 4,
   "id": "08c3a256-3dcc-43f4-8241-ed16cc8a0602",
   "metadata": {
    "tags": []
   },
   "outputs": [],
   "source": [
    "fdf_c = ['ticker', 'name', 'year', 't-1장부가치']\n",
    "ret_c = ['ticker', 'year', '시가총액']"
   ]
  },
  {
   "cell_type": "code",
   "execution_count": 5,
   "id": "0aee6aad-2558-42fc-b6a7-e37a400a62eb",
   "metadata": {
    "tags": []
   },
   "outputs": [],
   "source": [
    "fdf = pd.read_csv(\"finance.csv\")\n",
    "fdf.columns = ['ticker', 'name', '결산월', 'year', '보통주자본금', '자본잉여금', '이익잉여금', '자기주식', '이연법인세부채', '총자본', '우선주자본금', '이연법인세자산', '영업이익', '총자산']\n",
    "\n",
    "for c in fdf.columns.tolist():\n",
    "    if c in ['ticker', 'name', '결산월', 'year']: continue\n",
    "    fdf.loc[:, c] = fdf[c]*1000\n",
    "    \n",
    "fdf = fdf.sort_values(by=['ticker', 'year'])\n",
    "fdf = fdf[fdf['보통주자본금'].notna()].reset_index(drop=True)\n",
    "fdf['t-1장부가치'] = fdf.groupby(by='ticker')[['보통주자본금', '자본잉여금', '이익잉여금', '자기주식', '이연법인세부채']].shift(1).sum(axis=1)\n",
    "fdf['결산월'] = fdf['결산월'].astype('int8')\n",
    "fdf['t-1영업이익'] = fdf.groupby('ticker')['영업이익'].shift(1)\n",
    "fdf['OP'] = fdf['t-1영업이익'] / fdf['t-1장부가치']\n",
    "fdf['t-1총자산'] = fdf.groupby(by='ticker')['총자산'].shift(1)\n",
    "fdf['t-2총자산'] = fdf.groupby(by='ticker')['총자산'].shift(2)\n",
    "fdf['INV'] = (fdf['t-1총자산']-fdf['t-2총자산']) / fdf['t-1총자산']\n",
    "fdf = fdf[['ticker', 'year', 't-1장부가치', 'OP', 'INV']]"
   ]
  },
  {
   "cell_type": "code",
   "execution_count": 6,
   "id": "59746943-8db7-4828-a994-4617ab003447",
   "metadata": {
    "tags": []
   },
   "outputs": [],
   "source": [
    "df = pd.read_csv(\"월별주가.csv\")\n",
    "df = df.melt(id_vars=['Symbol', 'Name']).rename(columns={'Symbol':'ticker', \"variable\":'date', 'value':'price'}).sort_values(by=['ticker', 'date'])\n",
    "df['price-12m'] = df.groupby(by='ticker')['price'].shift(12)\n",
    "df['price-1m'] = df.groupby(by='ticker')['price'].shift(1)\n",
    "df['mom'] = (df['price-1m'] - df['price-12m']) / df['price-12m'] * 100\n",
    "df['월수익률'] = (df['price'] - df['price-1m']) / df['price'] * 100\n",
    "df = df[np.where(df[['price', 'price-12m', 'price-1m', 'mom', '월수익률']].isna().sum(axis=1)==5, False, True)].reset_index(drop=True)\n",
    "df['date'] = pd.to_datetime(df['date'])\n",
    "df['year'] = df['date'].dt.year\n",
    "df['month'] = df['date'].dt.month\n",
    "df = df[['date', 'year', 'month', 'ticker', '월수익률', 'price', 'price-1m', 'mom']]"
   ]
  },
  {
   "cell_type": "code",
   "execution_count": 7,
   "id": "7b9c3c23-1c2d-43af-9373-7eebda3cab4b",
   "metadata": {
    "tags": []
   },
   "outputs": [],
   "source": [
    "rmrf = pd.read_csv(\"rmrf.csv\")\n",
    "rmrf['Date'] = pd.to_datetime(rmrf['Date'], format='%Y%m')\n",
    "rmrf['year'], rmrf['month'] = rmrf['Date'].dt.year, rmrf['Date'].dt.month"
   ]
  },
  {
   "cell_type": "code",
   "execution_count": 8,
   "id": "5ae0de45-548e-4577-8c0c-01e061f9c9e4",
   "metadata": {
    "tags": []
   },
   "outputs": [],
   "source": [
    "ret = pd.read_csv(\"return.csv\")\n",
    "cols = ret.columns.tolist()\n",
    "n_cols = [cols[0], cols[4]] + cols[6:]\n",
    "ret = ret[n_cols]\n",
    "ret = ret.rename(columns={\"Symbol\":\"ticker\", \"Item Name \":\"item\"})\n",
    "size, rts = ret['item'].unique().tolist()\n",
    "ret.loc[ret['item'] == size, \"item\"] = '시가총액'\n",
    "ret.loc[ret[\"item\"] == rts, \"item\"] = '월수익률'\n",
    "ret = pd.melt(ret, id_vars=[\"ticker\", \"item\"], var_name='date')\n",
    "ret = pd.pivot(ret, index=['ticker', 'date'], columns='item').reset_index()\n",
    "ret.columns = ['ticker', 'date', '시가총액', '월수익률']\n",
    "ret = ret[['ticker', 'date', '시가총액']]\n",
    "ret['date'], ret['시가총액'] = pd.to_datetime(ret['date']), ret['시가총액'] * 1000000\n",
    "ret['year'], ret['month'] = ret['date'].dt.year, ret['date'].dt.month\n",
    "ret = ret[ret['시가총액'].notna()].reset_index(drop=True)\n",
    "ret = pd.merge(ret, ret[ ret['month'] == 6][ret_c], how='left', on=['ticker', 'year'])\n",
    "ret = ret.rename(columns={'시가총액_x':'t시총', '시가총액_y':'SIZE'})\n",
    "ret = ret.merge(info, how='left', on=['ticker', 'year'])\n",
    "ret = ret[ret['exchcd'].notna()].reset_index(drop=True)\n",
    "ret = ret[['year', 'month', 'ticker', 't시총', 'SIZE']]"
   ]
  },
  {
   "cell_type": "code",
   "execution_count": 9,
   "id": "062cd52d-c703-4caf-acb3-96c2116999cd",
   "metadata": {
    "tags": []
   },
   "outputs": [],
   "source": [
    "rdf = df.merge(ret, how='left', on=['year', 'month', 'ticker'])"
   ]
  },
  {
   "cell_type": "code",
   "execution_count": 10,
   "id": "e16c3c2a-32dc-4fe5-bb24-f96195ec3df5",
   "metadata": {
    "tags": []
   },
   "outputs": [],
   "source": [
    "ret = pd.DataFrame()\n",
    "for c, df in rdf.groupby(by='ticker'):\n",
    "    # print(c, end=' ')\n",
    "    df['t-1시총'] = df['t시총'].shift(12)\n",
    "    df = pd.merge(df, df[ df['month'] == 6][['ticker', 'year', 't-1시총']], how='left', on=['ticker', 'year'])\n",
    "    del df['t-1시총_x']\n",
    "    df = df.rename(columns={'t-1시총_y':'t-1시총'})\n",
    "    ret = pd.concat([ret, df])\n",
    "ret = ret.reset_index(drop=True)"
   ]
  },
  {
   "cell_type": "code",
   "execution_count": 11,
   "id": "0e5e637b-cc83-4848-b672-e5441a4be04f",
   "metadata": {
    "tags": []
   },
   "outputs": [],
   "source": [
    "tdf = ret.merge(fdf, how='left', on=['year', 'ticker'])\n",
    "tdf = tdf.assign(BEME=tdf['t-1장부가치'] / tdf['t-1시총'])\n",
    "tdf = tdf.merge(rmrf, how='left', on=['year', 'month'])\n",
    "tdf = tdf[['date', 'year', 'month', 'ticker', '월수익률', 'price', 'price-1m', 'mom', 't시총', 't-1시총','RM-RF', 'SIZE', 'BEME', 'OP', 'INV']]"
   ]
  },
  {
   "cell_type": "code",
   "execution_count": 12,
   "id": "7af325c0-51a9-4211-a1c9-581a31867437",
   "metadata": {
    "tags": []
   },
   "outputs": [],
   "source": [
    "df = pd.DataFrame()\n",
    "for y in [2017, 2018, 2019, 2020, 2021, 2022]:\n",
    "    ydf = tdf[(tdf['year']==y)&(tdf['month']==6)]\n",
    "    ydf = ydf[(ydf['SIZE'].notna())&(ydf['BEME'].notna())&(ydf['OP'].notna())&(ydf['INV'].notna())]\n",
    "    \n",
    "    s1 = ydf['SIZE'].quantile(0.5)\n",
    "    b1, b2 = ydf['BEME'].quantile([0.3, 0.7])\n",
    "    o1, o2 = ydf['OP'].quantile([0.3, 0.7])\n",
    "    i1, i2 = ydf['INV'].quantile([0.3, 0.7])\n",
    "    \n",
    "    ydf = ydf.assign(size=np.where(ydf['SIZE']<=s1, 'small', 'big'))\n",
    "    ydf = ydf.assign(beme=np.where(ydf['BEME']<=b1, 'value', np.where(ydf['BEME']<=b2, 'neutral', 'growth')))\n",
    "    ydf = ydf.assign(op=np.where(ydf['OP']<=o1, 'robust', np.where(ydf['OP']<=o2, 'neutral', 'weak')))\n",
    "    ydf = ydf.assign(inv=np.where(ydf['INV']<=i1, 'conservative', np.where(ydf['INV']<=i2, 'neutral', 'aggressive')))\n",
    "    ydf=  ydf[['ticker', 'size', 'beme', 'op', 'inv']]\n",
    "    \n",
    "    rdf = tdf[tdf['date'].between(f'{y}0701', f'{y+1}0630')].merge(ydf, how='left', on=['ticker'])\n",
    "    rdf['port_year'] = str(y)\n",
    "    df = pd.concat([df, rdf])"
   ]
  },
  {
   "cell_type": "code",
   "execution_count": 13,
   "id": "74f7ba42-1a80-4a7e-84af-6626fd0c68a0",
   "metadata": {
    "tags": []
   },
   "outputs": [],
   "source": [
    "df = df[(df['size'].notna())&(df.beme.notna())&(df.op.notna())&(df.inv.notna())].reset_index(drop=True)\n",
    "df = df[['port_year', 'ticker', 'year', 'month', '월수익률', 'size', 'beme', 'op', 'inv']]"
   ]
  },
  {
   "cell_type": "code",
   "execution_count": 14,
   "id": "0f6b7168-1289-4e9e-8658-32a5f4c6bb3f",
   "metadata": {
    "tags": []
   },
   "outputs": [],
   "source": [
    "mat = pd.DataFrame()\n",
    "\n",
    "for c, tf in df.groupby(by='port_year'):\n",
    "    tf['size-beme'] = tf['size']+' '+ tf['beme']\n",
    "    tf['size-op'] = tf['size']+' '+ tf['op']\n",
    "    tf['size-inv'] = tf['size']+' '+ tf['inv']\n",
    "        \n",
    "    sf = tf.groupby(by=['size-beme', 'month'])['월수익률'].mean()\n",
    "    for m, zf in sf.groupby('month'):\n",
    "        df.loc[(df['port_year']==c)&(df['month']==m), \"SMB(B/M)\"] = ((zf['small value'] + zf['small neutral'] + zf['small growth'])/3 - (zf['big value'] + zf['big neutral'] + zf['big growth'])/3).tolist()[0]\n",
    "        df.loc[(df['port_year']==c)&(df['month']==m), \"HML\"] = ((zf['small value'] + zf['big value'])/2 - (zf['small growth'] + zf['big growth'])/2).tolist()[0]\n",
    "    \n",
    "    sf = tf.groupby(by=['size-op', 'month'])['월수익률'].mean()\n",
    "    for m, zf in sf.groupby('month'):\n",
    "        df.loc[(df['port_year']==c)&(df['month']==m), \"SMB(OP)\"] = ((zf['small robust'] + zf['small neutral'] + zf['small weak'])/3 - (zf['big robust'] + zf['big neutral'] + zf['big weak'])/3).tolist()[0]\n",
    "        df.loc[(df['port_year']==c)&(df['month']==m), \"RMW\"] = ((zf['small robust'] + zf['big robust'])/2 - (zf['small weak'] + zf['big weak'])/2).tolist()[0]\n",
    "        \n",
    "    sf = tf.groupby(by=['size-inv', 'month'])['월수익률'].mean()\n",
    "    for m, zf in sf.groupby('month'):\n",
    "        df.loc[(df['port_year']==c)&(df['month']==m), \"SMB(INV)\"] = ((zf['small conservative'] + zf['small neutral'] + zf['small aggressive'])/3 - (zf['big conservative'] + zf['big neutral'] + zf['big aggressive'])/3).tolist()[0]\n",
    "        df.loc[(df['port_year']==c)&(df['month']==m), \"CMA\"] = ((zf['small conservative'] + zf['big conservative'])/2 - (zf['small aggressive'] + zf['big aggressive'])/2).tolist()[0]\n",
    "    \n",
    "    df.loc[(df['port_year']==c), \"SMB\"] = (df['SMB(B/M)'] + df['SMB(OP)'] + df['SMB(INV)'])/3\n",
    "df = df.groupby(by=['year', 'month'])[['SMB', 'HML', 'RMW', 'CMA']].mean().reset_index()\n",
    "df = df.merge(rmrf[['year', 'month', 'RM-RF']], how='left', on=['year', 'month'])"
   ]
  },
  {
   "cell_type": "code",
   "execution_count": 15,
   "id": "9384de97-f749-42b0-9bd6-b54c6f86da30",
   "metadata": {
    "tags": []
   },
   "outputs": [],
   "source": [
    "for t, asdf in tdf.groupby(by=['year', 'month']):\n",
    "    if t[0] < 2017: continue\n",
    "    if t[0]==2017 and t[1] < 6: continue\n",
    "    asdf = asdf[['year', 'month', '월수익률', 'price-1m', 'mom']]\n",
    "    asdf=asdf.dropna().sort_values('mom')\n",
    "    \n",
    "    m1, m2 = asdf['mom'].quantile([0.3, 0.7])\n",
    "    asdf.loc[asdf['mom']<=m1, \"MOM\"] = 'low'\n",
    "    asdf.loc[asdf['mom']>m2, 'MOM'] = 'high'\n",
    "    high, low = asdf.groupby('MOM')[['month', '월수익률']].mean()['월수익률'].tolist()\n",
    "    df.loc[(df['year']==t[0])&(df['month']==t[1]), \"MOM\"] = high-low\n",
    "    \n",
    "    r1, r2 = asdf['price-1m'].quantile([0.3, 0.7])\n",
    "    asdf.loc[asdf['price-1m']<=r1, \"REV\"] = 'low'\n",
    "    asdf.loc[asdf['price-1m']>r2, 'REV'] = 'high'\n",
    "    high, low = asdf.groupby('REV')[['month', '월수익률']].mean()['월수익률'].tolist()\n",
    "    df.loc[(df['year']==t[0])&(df['month']==t[1]), \"REV\"] = low-high"
   ]
  },
  {
   "cell_type": "code",
   "execution_count": 16,
   "id": "ebf61590-8330-4a06-bd2f-26297794a932",
   "metadata": {
    "tags": []
   },
   "outputs": [],
   "source": [
    "df.to_csv('factor.csv', index=False)"
   ]
  },
  {
   "cell_type": "code",
   "execution_count": 17,
   "id": "9244e50b-a816-4b4d-8911-190a4d9366dd",
   "metadata": {
    "tags": []
   },
   "outputs": [],
   "source": [
    "# 5x5 portfolio 수익률\n",
    "df = pd.DataFrame()\n",
    "for y in [2017, 2018, 2019, 2020, 2021, 2022]:\n",
    "    ydf = tdf[(tdf['year']==y)&(tdf['month']==6)]\n",
    "    m1, m2, m3, m4 = ydf['SIZE'].quantile([0.2, 0.4, 0.6, 0.8])\n",
    "    ydf = ydf.assign(size=ydf['SIZE'].apply(get_size, args=(m1, m2, m3, m4)))\n",
    "    m1, m2, m3, m4 = ydf['BEME'].quantile([0.2, 0.4, 0.6, 0.8])\n",
    "    ydf = ydf.assign(beme=ydf['BEME'].apply(get_beme, args=(m1, m2, m3, m4)))\n",
    "    ydf.loc[:, 'portfolio'] = ydf['year'].astype(\"str\") + ydf['size'] + ydf['beme']\n",
    "    ydf = ydf[['ticker', 'portfolio']]\n",
    "    \n",
    "    rdf = tdf[tdf['date'].between(f'{y}0701', f'{y+1}0630')].merge(ydf, how='left', on=['ticker'])\n",
    "    rdf = rdf.groupby(\"portfolio\")[['월수익률']].mean().reset_index().sort_values('portfolio')\n",
    "    rdf.loc[:, 'year'] = rdf['portfolio'].str[:4]\n",
    "    rdf.loc[:, 'port'] = rdf['portfolio'].str[4:]\n",
    "    rdf = rdf.pivot(columns='year', index='port', values='월수익률')\n",
    "    df = pd.concat([df, rdf], axis=1)\n",
    "df = df.T.mean().reset_index()\n",
    "df['SIZE'] = df['port'].str[:2]\n",
    "df['BE/ME'] = df['port'].str[2:]\n",
    "df = df.pivot(columns='BE/ME', index='SIZE', values=0)"
   ]
  },
  {
   "cell_type": "code",
   "execution_count": 18,
   "id": "4a80bdc6-e0c5-4ec5-9665-0d0bee01cd98",
   "metadata": {
    "tags": []
   },
   "outputs": [],
   "source": [
    "df.to_csv('5x5 portfolio.csv')"
   ]
  },
  {
   "cell_type": "code",
   "execution_count": null,
   "id": "3fc0a7b9-72f4-4605-b986-23e06ecf4f2d",
   "metadata": {},
   "outputs": [],
   "source": []
  },
  {
   "cell_type": "code",
   "execution_count": null,
   "id": "1a473e60-8ec9-4795-b4b9-f7a3458cc76c",
   "metadata": {},
   "outputs": [],
   "source": []
  },
  {
   "cell_type": "code",
   "execution_count": null,
   "id": "277ce1a6-0374-4b47-9261-5205b019aeff",
   "metadata": {},
   "outputs": [],
   "source": []
  },
  {
   "cell_type": "code",
   "execution_count": null,
   "id": "1e381c32-2995-4a63-b34f-54961ef3949f",
   "metadata": {},
   "outputs": [],
   "source": []
  },
  {
   "cell_type": "code",
   "execution_count": null,
   "id": "1375d1bf-5272-43a7-bb10-e0ce9b61f524",
   "metadata": {},
   "outputs": [],
   "source": []
  },
  {
   "cell_type": "code",
   "execution_count": null,
   "id": "94206efd-28fb-4950-9952-891b20d45439",
   "metadata": {},
   "outputs": [],
   "source": []
  },
  {
   "cell_type": "code",
   "execution_count": null,
   "id": "15120c77-739a-4a0e-b9c9-03dadc57cb92",
   "metadata": {},
   "outputs": [],
   "source": []
  },
  {
   "cell_type": "code",
   "execution_count": null,
   "id": "a3c54ba8-d6bb-4e6e-91ad-35309fc53bc5",
   "metadata": {},
   "outputs": [],
   "source": []
  },
  {
   "cell_type": "code",
   "execution_count": null,
   "id": "2425e13d-01e4-4f2d-a2b6-52d47484d69b",
   "metadata": {},
   "outputs": [],
   "source": []
  },
  {
   "cell_type": "code",
   "execution_count": null,
   "id": "926a2d2e-4a85-42b7-8c35-826f367c114e",
   "metadata": {},
   "outputs": [],
   "source": []
  },
  {
   "cell_type": "code",
   "execution_count": null,
   "id": "a4f43863-6a53-4c8f-b535-0c8e404c2f1a",
   "metadata": {},
   "outputs": [],
   "source": []
  },
  {
   "cell_type": "code",
   "execution_count": null,
   "id": "d161eea5-8b61-4b20-82ee-cf23af8672dd",
   "metadata": {},
   "outputs": [],
   "source": []
  },
  {
   "cell_type": "code",
   "execution_count": null,
   "id": "614e37e5-aefb-4cf0-b9aa-c7b45c3f4d7f",
   "metadata": {},
   "outputs": [],
   "source": []
  },
  {
   "cell_type": "code",
   "execution_count": null,
   "id": "4a90a5fa-cf3e-42e7-b86a-30cfc2e7d01c",
   "metadata": {},
   "outputs": [],
   "source": []
  },
  {
   "cell_type": "code",
   "execution_count": null,
   "id": "a0af9351-0461-4915-9a64-3683f22a82f0",
   "metadata": {},
   "outputs": [],
   "source": []
  }
 ],
 "metadata": {
  "kernelspec": {
   "display_name": "Python 3.12 (data)",
   "language": "python",
   "name": "python3"
  },
  "language_info": {
   "codemirror_mode": {
    "name": "ipython",
    "version": 3
   },
   "file_extension": ".py",
   "mimetype": "text/x-python",
   "name": "python",
   "nbconvert_exporter": "python",
   "pygments_lexer": "ipython3",
   "version": "3.12.3"
  }
 },
 "nbformat": 4,
 "nbformat_minor": 5
}
